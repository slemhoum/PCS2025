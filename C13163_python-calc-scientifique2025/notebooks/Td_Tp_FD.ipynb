{
 "cells": [
  {
   "cell_type": "markdown",
   "id": "261b4ac5-fc6e-45e5-a61b-975e3e03212a",
   "metadata": {},
   "source": [
    "# **Formation Doctorale A1/A2**\n",
    "### **Chapitre 1 : La base**\n",
    "\n"
   ]
  },
  {
   "cell_type": "markdown",
   "id": "25ea9aa8-5f7e-412c-b045-7def9a6cbe26",
   "metadata": {},
   "source": [
    "### **Exercice 1.1 & 1.2 – Fonction de moyenne avec gestion liste vide**"
   ]
  },
  {
   "cell_type": "code",
   "execution_count": 16,
   "id": "93a2e6af-04d5-447c-8d38-8b26fdb0dbbd",
   "metadata": {},
   "outputs": [
    {
     "name": "stdout",
     "output_type": "stream",
     "text": [
      "Moyenne de [1.0, 2.0, 3.0] : 2.0\n",
      "Moyenne de [] : None\n"
     ]
    }
   ],
   "source": [
    "def calcul_moyenne(donnees: List[float]) -> Optional[float]:\n",
    "    \"\"\"\n",
    "    Calcule manuellement la moyenne d'une liste de flottants.\n",
    "\n",
    "    Args:\n",
    "        donnees (List[float]): Liste des valeurs.\n",
    "\n",
    "    Returns:\n",
    "        Optional[float]: Moyenne si la liste n'est pas vide, sinon None.\n",
    "    \"\"\"\n",
    "    total = 0.0\n",
    "    count = 0\n",
    "    for valeur in donnees:\n",
    "        total += valeur\n",
    "        count += 1\n",
    "    \n",
    "    if count == 0:\n",
    "        return None\n",
    "    \n",
    "    moyenne = total / count\n",
    "    return moyenne\n",
    "\n",
    "# Test\n",
    "print(\"Moyenne de [1.0, 2.0, 3.0] :\", calcul_moyenne([1.0, 2.0, 3.0]))\n",
    "print(\"Moyenne de [] :\", calcul_moyenne([]))"
   ]
  },
  {
   "cell_type": "markdown",
   "id": "46b06dab-9ea9-4789-a64a-6df6674c7218",
   "metadata": {},
   "source": [
    "### **Exercice 1.3 – Gène le plus exprimé (sans max())**"
   ]
  },
  {
   "cell_type": "code",
   "execution_count": 19,
   "id": "27493e58-e7e9-4ead-a0c2-884ecfd6e424",
   "metadata": {},
   "outputs": [
    {
     "name": "stdout",
     "output_type": "stream",
     "text": [
      "Gène le plus exprimé : BRCA1\n"
     ]
    }
   ],
   "source": [
    "def gene_le_plus_exprime(donnees: dict) -> str:\n",
    "    \"\"\"\n",
    "    Trouve le gène avec la valeur d'expression la plus élevée.\n",
    "\n",
    "    Args:\n",
    "        donnees (dict): Dictionnaire {gène: expression}.\n",
    "\n",
    "    Returns:\n",
    "        str: Nom du gène le plus exprimé.\n",
    "    \"\"\"\n",
    "    gene_max = None\n",
    "    valeur_max = -1\n",
    "    \n",
    "    for gene in donnees:\n",
    "        expression = donnees[gene]\n",
    "        if valeur_max == -1 or expression > valeur_max:\n",
    "            gene_max = gene\n",
    "            valeur_max = expression\n",
    "    \n",
    "    return gene_max\n",
    "\n",
    "# Test\n",
    "donnees_genes = {\"BRCA1\": 5200, \"TP53\": 3400, \"EGFR\": 4100}\n",
    "print(\"Gène le plus exprimé :\", gene_le_plus_exprime(donnees_genes))\n"
   ]
  },
  {
   "cell_type": "markdown",
   "id": "86e3ef12-00dc-4e21-b0c4-87badc3c2917",
   "metadata": {},
   "source": [
    "### **Exercice 1.4 – Tableau comparatif Python vs C++**"
   ]
  },
  {
   "cell_type": "code",
   "execution_count": 22,
   "id": "af7e9d5e-bc4f-46af-a921-4fa6d3d27d75",
   "metadata": {},
   "outputs": [
    {
     "data": {
      "text/html": [
       "<div>\n",
       "<style scoped>\n",
       "    .dataframe tbody tr th:only-of-type {\n",
       "        vertical-align: middle;\n",
       "    }\n",
       "\n",
       "    .dataframe tbody tr th {\n",
       "        vertical-align: top;\n",
       "    }\n",
       "\n",
       "    .dataframe thead th {\n",
       "        text-align: right;\n",
       "    }\n",
       "</style>\n",
       "<table border=\"1\" class=\"dataframe\">\n",
       "  <thead>\n",
       "    <tr style=\"text-align: right;\">\n",
       "      <th></th>\n",
       "      <th>Critère</th>\n",
       "      <th>Python</th>\n",
       "      <th>C++</th>\n",
       "    </tr>\n",
       "  </thead>\n",
       "  <tbody>\n",
       "    <tr>\n",
       "      <th>0</th>\n",
       "      <td>Simplicité</td>\n",
       "      <td>Très simple</td>\n",
       "      <td>Complexe</td>\n",
       "    </tr>\n",
       "    <tr>\n",
       "      <th>1</th>\n",
       "      <td>Bibliothèques</td>\n",
       "      <td>Très riche</td>\n",
       "      <td>Moins riche</td>\n",
       "    </tr>\n",
       "    <tr>\n",
       "      <th>2</th>\n",
       "      <td>Communauté</td>\n",
       "      <td>Très grande</td>\n",
       "      <td>Grande</td>\n",
       "    </tr>\n",
       "    <tr>\n",
       "      <th>3</th>\n",
       "      <td>Vitesse</td>\n",
       "      <td>Moyenne</td>\n",
       "      <td>Très rapide</td>\n",
       "    </tr>\n",
       "  </tbody>\n",
       "</table>\n",
       "</div>"
      ],
      "text/plain": [
       "         Critère       Python          C++\n",
       "0     Simplicité  Très simple     Complexe\n",
       "1  Bibliothèques   Très riche  Moins riche\n",
       "2     Communauté  Très grande       Grande\n",
       "3        Vitesse      Moyenne  Très rapide"
      ]
     },
     "execution_count": 22,
     "metadata": {},
     "output_type": "execute_result"
    }
   ],
   "source": [
    "import pandas as pd\n",
    "\n",
    "comparaison = pd.DataFrame({\n",
    "    \"Critère\": [\"Simplicité\", \"Bibliothèques\", \"Communauté\", \"Vitesse\"],\n",
    "    \"Python\": [\"Très simple\", \"Très riche\", \"Très grande\", \"Moyenne\"],\n",
    "    \"C++\": [\"Complexe\", \"Moins riche\", \"Grande\", \"Très rapide\"]\n",
    "})\n",
    "comparaison\n"
   ]
  },
  {
   "cell_type": "markdown",
   "id": "c342d72e-6ba1-4dcb-b11a-847ebd5b4fc0",
   "metadata": {},
   "source": [
    "### **Exercice 1.5 – Lecture critique de code scientifique**"
   ]
  },
  {
   "cell_type": "markdown",
   "id": "451702e9-5907-4b43-be46-6dc71bb0a9ef",
   "metadata": {},
   "source": [
    "### Exercice 1.5 – Lecture critique de code scientifique\n",
    "\n",
    "J'ai consulté l'article *\"SciPy 1.0: Fundamental Algorithms for Scientific Computing in Python\"*\n",
    "publié dans Nature (2019). Cet article présente les bibliothèques `scipy`, `numpy`, `matplotlib`\n",
    "comme socle du calcul scientifique en Python.\n",
    "\n",
    "#### Bibliothèques utilisées :\n",
    "- `numpy` : manipulation de tableaux, opérations vectorielles\n",
    "- `scipy` : résolveurs linéaires, EDP, interpolation, FFT\n",
    "- `matplotlib` : visualisation de données\n",
    "\n",
    "#### Analyse critique :\n",
    "- L'article justifie le choix de Python pour sa simplicité et son écosystème.\n",
    "- Le code est open-source, reproductible et bien documenté.\n",
    "- Python est présenté comme un outil central pour la recherche scientifique moderne.\n"
   ]
  },
  {
   "cell_type": "markdown",
   "id": "4cf00f19-40b0-4d4c-9686-822367c02524",
   "metadata": {},
   "source": [
    "### **Exercice 1.6 – Tenseurs de base avec TensorFlow et PyTorch**"
   ]
  },
  {
   "cell_type": "code",
   "execution_count": 33,
   "id": "b4de1a4c-df4c-4b80-a37e-002303922d05",
   "metadata": {},
   "outputs": [
    {
     "name": "stdout",
     "output_type": "stream",
     "text": [
      "TensorFlow tensor : tf.Tensor(\n",
      "[[1 2]\n",
      " [3 4]], shape=(2, 2), dtype=int32)\n",
      "Shape : (2, 2)\n",
      "PyTorch tensor : tensor([[1, 2],\n",
      "        [3, 4]])\n",
      "Shape : torch.Size([2, 2])\n"
     ]
    }
   ],
   "source": [
    "import torch\n",
    "import tensorflow as tf\n",
    "\n",
    "# TensorFlow\n",
    "tensor_tf = tf.constant([[1, 2], [3, 4]])\n",
    "print(\"TensorFlow tensor :\", tensor_tf)\n",
    "print(\"Shape :\", tensor_tf.shape)\n",
    "\n",
    "# PyTorch\n",
    "tensor_pt = torch.tensor([[1, 2], [3, 4]])\n",
    "print(\"PyTorch tensor :\", tensor_pt)\n",
    "print(\"Shape :\", tensor_pt.shape)\n",
    "t1 = tf.constant([1, 2])  # ne peut pas être modifié\n",
    "t2 = torch.tensor([1, 2])  # peut être modifié avec des opérations sur place\n",
    "\n"
   ]
  },
  {
   "cell_type": "markdown",
   "id": "0ee96e6d-28ec-4fac-97c3-6a6f089de859",
   "metadata": {},
   "source": [
    "### **Exercice 1.7 – Opérations tensorielles**"
   ]
  },
  {
   "cell_type": "code",
   "execution_count": 36,
   "id": "ed84ccd4-69f1-4c8f-a010-c767852c0d82",
   "metadata": {},
   "outputs": [
    {
     "name": "stdout",
     "output_type": "stream",
     "text": [
      "Addition élément par élément :\n",
      " tensor([[10, 10, 10],\n",
      "        [10, 10, 10],\n",
      "        [10, 10, 10]])\n",
      "Multiplication matricielle :\n",
      " tensor([[ 30,  24,  18],\n",
      "        [ 84,  69,  54],\n",
      "        [138, 114,  90]])\n",
      "Produit Hadamard (élément par élément) :\n",
      " tensor([[ 9, 16, 21],\n",
      "        [24, 25, 24],\n",
      "        [21, 16,  9]])\n"
     ]
    }
   ],
   "source": [
    "a = torch.tensor([[1, 2, 3], [4, 5, 6], [7, 8, 9]])\n",
    "b = torch.tensor([[9, 8, 7], [6, 5, 4], [3, 2, 1]])\n",
    "\n",
    "print(\"Addition élément par élément :\\n\", a + b)\n",
    "print(\"Multiplication matricielle :\\n\", torch.matmul(a, b))\n",
    "print(\"Produit Hadamard (élément par élément) :\\n\", a * b)\n"
   ]
  },
  {
   "cell_type": "markdown",
   "id": "2f6e1fba-01aa-442f-934e-904192a0351f",
   "metadata": {},
   "source": [
    "### **Exercice 1.8 – Reshape et Broadcasting**"
   ]
  },
  {
   "cell_type": "code",
   "execution_count": 41,
   "id": "b87ba80b-8634-4b4f-9be0-be5e2a02ab6d",
   "metadata": {},
   "outputs": [
    {
     "name": "stdout",
     "output_type": "stream",
     "text": [
      "3x4 :\n",
      " tensor([[ 1,  2,  3,  4],\n",
      "        [ 5,  6,  7,  8],\n",
      "        [ 9, 10, 11, 12]])\n",
      "2x3x2 :\n",
      " tensor([[[ 1,  2],\n",
      "         [ 3,  4],\n",
      "         [ 5,  6]],\n",
      "\n",
      "        [[ 7,  8],\n",
      "         [ 9, 10],\n",
      "         [11, 12]]])\n",
      "Broadcasting (3x1 + 1x3) :\n",
      " tensor([[11, 21, 31],\n",
      "        [12, 22, 32],\n",
      "        [13, 23, 33]])\n"
     ]
    }
   ],
   "source": [
    "data = torch.arange(1, 13)\n",
    "\n",
    "# Redimensionner\n",
    "print(\"3x4 :\\n\", data.view(3, 4))\n",
    "print(\"2x3x2 :\\n\", data.view(2, 3, 2))\n",
    "\n",
    "# Broadcasting\n",
    "a = torch.tensor([[1], [2], [3]])\n",
    "b = torch.tensor([[10, 20, 30]])\n",
    "print(\"Broadcasting (3x1 + 1x3) :\\n\", a + b)\n"
   ]
  },
  {
   "cell_type": "markdown",
   "id": "7ac8427f-fd4a-42f7-ae9f-8d9397e96be6",
   "metadata": {},
   "source": [
    "### **Exercice 1.9.1 – Tenseurs sur GPU**"
   ]
  },
  {
   "cell_type": "code",
   "execution_count": 44,
   "id": "db6438bb-ad43-4aba-9ba9-8a50bb2c87d2",
   "metadata": {},
   "outputs": [
    {
     "name": "stdout",
     "output_type": "stream",
     "text": [
      "GPU disponible : False\n",
      "Temps CPU : 0.02241683006286621\n",
      "Temps GPU : 0.004131793975830078\n"
     ]
    }
   ],
   "source": [
    "import time\n",
    "\n",
    "device = 'cuda' if torch.cuda.is_available() else 'cpu'\n",
    "print(\"GPU disponible :\", torch.cuda.is_available())\n",
    "\n",
    "a = torch.randn(1000, 1000)\n",
    "b = torch.randn(1000, 1000)\n",
    "\n",
    "start = time.time()\n",
    "_ = a @ b\n",
    "print(\"Temps CPU :\", time.time() - start)\n",
    "\n",
    "a_gpu = a.to(device)\n",
    "b_gpu = b.to(device)\n",
    "start = time.time()\n",
    "_ = a_gpu @ b_gpu\n",
    "print(\"Temps GPU :\", time.time() - start)\n"
   ]
  },
  {
   "cell_type": "markdown",
   "id": "04403907-7c88-44cb-9ea3-ef1c3992a81e",
   "metadata": {},
   "source": [
    "### **Exercice 1.9.2 – Gradients automatiques**"
   ]
  },
  {
   "cell_type": "code",
   "execution_count": 47,
   "id": "684a3a8a-66c6-4492-bcf8-f7ff5dd9c32e",
   "metadata": {},
   "outputs": [
    {
     "name": "stdout",
     "output_type": "stream",
     "text": [
      "dy/dx = 7.0\n"
     ]
    }
   ],
   "source": [
    "x = torch.tensor(2.0, requires_grad=True)\n",
    "y = x**2 + 3 * x + 1\n",
    "y.backward()\n",
    "print(\"dy/dx =\", x.grad.item())\n"
   ]
  },
  {
   "cell_type": "markdown",
   "id": "2853cd34-b094-458c-9674-bb91ae2fc8e1",
   "metadata": {},
   "source": [
    "### **Exercice 1.9.3 – Conversion TensorFlow ↔ PyTorch**"
   ]
  },
  {
   "cell_type": "markdown",
   "id": "8a5b5bea-6aaf-4d4c-aca2-3971a48eb3ae",
   "metadata": {},
   "source": [
    "t_pt = torch.tensor([[1, 2], [3, 4]])\n",
    "t_tf = tf.convert_to_tensor(t_pt.numpy())\n",
    "t_back = torch.from_numpy(t_tf.numpy())\n",
    "\n",
    "print(\"Équivalence :\", torch.equal(t_pt, t_back))\n"
   ]
  },
  {
   "cell_type": "markdown",
   "id": "d21442bb-d13e-44d2-81c6-eb715b63343f",
   "metadata": {},
   "source": [
    "### **Exercice 1.9.4 – Image → Tenseur**"
   ]
  },
  {
   "cell_type": "code",
   "execution_count": 57,
   "id": "c86a6c0d-6b33-4a01-a623-7e7f731fdceb",
   "metadata": {},
   "outputs": [
    {
     "name": "stdout",
     "output_type": "stream",
     "text": [
      "Shape (B, C, H, W) : torch.Size([1, 3, 225, 225])\n"
     ]
    }
   ],
   "source": [
    "from PIL import Image\n",
    "import numpy as np\n",
    "\n",
    "img = Image.open(\"image.jpg\").convert(\"RGB\")\n",
    "arr = np.array(img) / 255.0\n",
    "tensor_image = torch.tensor(arr).permute(2, 0, 1).unsqueeze(0)\n",
    "print(\"Shape (B, C, H, W) :\", tensor_image.shape)\n"
   ]
  },
  {
   "cell_type": "markdown",
   "id": "b97cb662-830c-4aab-af79-54de9524e89a",
   "metadata": {},
   "source": [
    "### **Exercice 1.9.5 – Tenseur pour séquences**"
   ]
  },
  {
   "cell_type": "code",
   "execution_count": 61,
   "id": "514c2483-9113-4313-94e4-867f4d6cd0d9",
   "metadata": {},
   "outputs": [
    {
     "name": "stdout",
     "output_type": "stream",
     "text": [
      "X : [[1, 3], [3, 5], [5, 7], [7, 9]]\n",
      "y : [5, 7, 9, 11]\n"
     ]
    }
   ],
   "source": [
    "seq = [1, 3, 5, 7, 9, 11]\n",
    "X = [seq[i:i+2] for i in range(len(seq) - 2)]\n",
    "y = [seq[i+2] for i in range(len(seq) - 2)]\n",
    "\n",
    "print(\"X :\", X)\n",
    "print(\"y :\", y)\n"
   ]
  },
  {
   "cell_type": "markdown",
   "id": "4017ce94-3851-4c57-a917-25b1f5c9974c",
   "metadata": {},
   "source": [
    "### **Exercice 1.9.6 – Initialisation de tenseurs**"
   ]
  },
  {
   "cell_type": "code",
   "execution_count": 64,
   "id": "af58e396-51d5-40c1-b30a-6abef35e5841",
   "metadata": {},
   "outputs": [
    {
     "name": "stdout",
     "output_type": "stream",
     "text": [
      "Zéros :\n",
      " tensor([[0., 0.],\n",
      "        [0., 0.]])\n",
      "Uniforme :\n",
      " tensor([[0.1260, 0.7710],\n",
      "        [0.1558, 0.8565]])\n",
      "Normale :\n",
      " tensor([[-0.1755,  0.9044],\n",
      "        [-2.5492, -0.0783]])\n",
      "Xavier :\n",
      " tensor([[ 0.3662, -1.0779],\n",
      "        [ 0.6232,  0.1904]])\n"
     ]
    }
   ],
   "source": [
    "print(\"Zéros :\\n\", torch.zeros((2, 2)))\n",
    "print(\"Uniforme :\\n\", torch.rand((2, 2)))\n",
    "print(\"Normale :\\n\", torch.randn((2, 2)))\n",
    "print(\"Xavier :\\n\", torch.nn.init.xavier_uniform_(torch.empty(2, 2)))\n"
   ]
  },
  {
   "cell_type": "markdown",
   "id": "659f4899-4f9b-4386-9434-019f5b2ea0cd",
   "metadata": {},
   "source": [
    "### **Exercice 1.9.7 – Tenseurs creux (sparse)**"
   ]
  },
  {
   "cell_type": "code",
   "execution_count": 67,
   "id": "7d5b0242-e6dc-4fd0-b231-a95ce329bb00",
   "metadata": {},
   "outputs": [
    {
     "name": "stdout",
     "output_type": "stream",
     "text": [
      "Tenseur creux : tensor(indices=tensor([[0, 1, 1],\n",
      "                       [2, 0, 2]]),\n",
      "       values=tensor([3., 4., 5.]),\n",
      "       size=(2, 3), nnz=3, layout=torch.sparse_coo)\n"
     ]
    }
   ],
   "source": [
    "indices = torch.tensor([[0, 1, 1], [2, 0, 2]])\n",
    "values = torch.tensor([3, 4, 5], dtype=torch.float32)\n",
    "sparse = torch.sparse_coo_tensor(indices, values, (2, 3))\n",
    "print(\"Tenseur creux :\", sparse)\n"
   ]
  },
  {
   "cell_type": "markdown",
   "id": "e9b15db0-5891-414e-8aa2-3843980debb7",
   "metadata": {},
   "source": [
    "### **Exercice 1.9.8 – Visualisation de tenseur 3D**"
   ]
  },
  {
   "cell_type": "code",
   "execution_count": 70,
   "id": "9f91e539-9592-4401-8656-5cfdd63abdb3",
   "metadata": {},
   "outputs": [
    {
     "data": {
      "image/png": "[encoded data removed]",
      "text/plain": [
       "<Figure size 640x480 with 1 Axes>"
      ]
     },
     "metadata": {},
     "output_type": "display_data"
    },
    {
     "data": {
      "image/png": "[encoded data removed]",
      "text/plain": [
       "<Figure size 640x480 with 1 Axes>"
      ]
     },
     "metadata": {},
     "output_type": "display_data"
    },
    {
     "data": {
      "image/png": "[encoded data removed]",
      "text/plain": [
       "<Figure size 640x480 with 1 Axes>"
      ]
     },
     "metadata": {},
     "output_type": "display_data"
    }
   ],
   "source": [
    "import matplotlib.pyplot as plt\n",
    "\n",
    "image = torch.rand((16, 16, 3))\n",
    "for i in range(3):\n",
    "    plt.imshow(image[:, :, i], cmap=\"gray\")\n",
    "    plt.title(f\"Canal {i}\")\n",
    "    plt.show()\n"
   ]
  },
  {
   "cell_type": "markdown",
   "id": "0bc34518-e6b1-4ec2-b1fa-f411bf0c05de",
   "metadata": {},
   "source": [
    "### **Exercice 1.9.9 – DataFrame ↔ Tenseur**"
   ]
  },
  {
   "cell_type": "code",
   "execution_count": 73,
   "id": "fef6964a-df0c-4886-8193-1f164ee95092",
   "metadata": {},
   "outputs": [
    {
     "name": "stdout",
     "output_type": "stream",
     "text": [
      "Tenseur :\n",
      " tensor([[1, 3],\n",
      "        [2, 4]])\n",
      "DataFrame reconverti :\n",
      "    a  b\n",
      "0  1  3\n",
      "1  2  4\n"
     ]
    }
   ],
   "source": [
    "df = pd.DataFrame({\"a\": [1, 2], \"b\": [3, 4]})\n",
    "tensor = torch.tensor(df.values)\n",
    "df_back = pd.DataFrame(tensor.numpy(), columns=df.columns)\n",
    "\n",
    "print(\"Tenseur :\\n\", tensor)\n",
    "print(\"DataFrame reconverti :\\n\", df_back)\n"
   ]
  },
  {
   "cell_type": "markdown",
   "id": "b3907edf-a37e-420f-8433-f8effddf2527",
   "metadata": {},
   "source": [
    "### **Exercice 1.9.10 – Lecture de fichier CSV**"
   ]
  },
  {
   "cell_type": "code",
   "execution_count": 77,
   "id": "1d989af7-b8d0-47d2-86ea-e2e9811d3f54",
   "metadata": {},
   "outputs": [],
   "source": [
    "def moyenne_colonne_csv(fichier: str, colonne: str):\n",
    "    df = pd.read_csv(fichier)\n",
    "    return df[colonne].mean()\n",
    "\n",
    "# Exemple (nécessite un fichier data.csv)\n",
    "# print(\"Moyenne :\", moyenne_colonne_csv(\"data.csv\", \"valeurs\"))\n"
   ]
  },
  {
   "cell_type": "markdown",
   "id": "4ff05539-5da6-4024-a134-c74225efa468",
   "metadata": {},
   "source": [
    "### **✅ Exercice 2.1 : Variables et types**"
   ]
  },
  {
   "cell_type": "code",
   "execution_count": 81,
   "id": "56a91823-0eec-4444-8f4f-c9e6f75d1b72",
   "metadata": {},
   "outputs": [
    {
     "name": "stdout",
     "output_type": "stream",
     "text": [
      "<class 'int'> <class 'float'> <class 'str'> <class 'bool'>\n"
     ]
    }
   ],
   "source": [
    "a = 5               # int\n",
    "b = 3.14            # float\n",
    "c = \"hello\"         # str\n",
    "d = True            # bool\n",
    "\n",
    "print(type(a), type(b), type(c), type(d))\n"
   ]
  },
  {
   "cell_type": "markdown",
   "id": "84bec807-198a-405e-b945-f30fe71940ff",
   "metadata": {},
   "source": [
    "### **Exercice 2.2 : Conditionnelle if/else**"
   ]
  },
  {
   "cell_type": "code",
   "execution_count": 84,
   "id": "5273cfd2-725d-404f-b429-5bd8333567f4",
   "metadata": {},
   "outputs": [
    {
     "name": "stdout",
     "output_type": "stream",
     "text": [
      "Température haute\n"
     ]
    }
   ],
   "source": [
    "temperature = 38\n",
    "\n",
    "if temperature < 36:\n",
    "    print(\"Température basse\")\n",
    "elif 36 <= temperature <= 37.5:\n",
    "    print(\"Température normale\")\n",
    "else:\n",
    "    print(\"Température haute\")\n"
   ]
  },
  {
   "cell_type": "markdown",
   "id": "deab8301-c6ab-45ef-8b01-ffbf0c8f3462",
   "metadata": {},
   "source": [
    "### **Exercice 2.3 : Pattern Matching (Python ≥ 3.10)**"
   ]
  },
  {
   "cell_type": "code",
   "execution_count": 87,
   "id": "b4ec2090-0337-498b-a90e-ec2099800857",
   "metadata": {},
   "outputs": [
    {
     "name": "stdout",
     "output_type": "stream",
     "text": [
      "Bien\n"
     ]
    }
   ],
   "source": [
    "note = 15\n",
    "\n",
    "match note:\n",
    "    case n if n >= 16:\n",
    "        print(\"Excellent\")\n",
    "    case n if 12 <= n < 16:\n",
    "        print(\"Bien\")\n",
    "    case n if 10 <= n < 12:\n",
    "        print(\"Passable\")\n",
    "    case _:\n",
    "        print(\"Insuffisant\")\n"
   ]
  },
  {
   "cell_type": "markdown",
   "id": "f85393b4-2813-45ee-8129-22e7600dec54",
   "metadata": {},
   "source": [
    "### **Exercice 2.4 : Boucle for**"
   ]
  },
  {
   "cell_type": "code",
   "execution_count": 90,
   "id": "51674dfd-b27b-4033-90fd-b946f041d32f",
   "metadata": {},
   "outputs": [
    {
     "name": "stdout",
     "output_type": "stream",
     "text": [
      "Index 0 : 1.1\n",
      "Index 1 : 1.5\n",
      "Index 2 : 1.3\n"
     ]
    }
   ],
   "source": [
    "mesures = [1.1, 1.5, 1.3]\n",
    "\n",
    "for i, m in enumerate(mesures):\n",
    "    print(f\"Index {i} : {m}\")\n"
   ]
  },
  {
   "cell_type": "markdown",
   "id": "9c1a6e60-59df-4d3b-b03d-eb2b959d56cd",
   "metadata": {},
   "source": [
    "### **Exercice 2.5 : Boucle while**"
   ]
  },
  {
   "cell_type": "code",
   "execution_count": 93,
   "id": "1f693548-c18e-4db1-997b-6dd59fe06034",
   "metadata": {},
   "outputs": [
    {
     "name": "stdout",
     "output_type": "stream",
     "text": [
      "5\n",
      "4\n",
      "3\n",
      "2\n",
      "1\n"
     ]
    }
   ],
   "source": [
    "n = 5\n",
    "while n > 0:\n",
    "    print(n)\n",
    "    n -= 1\n"
   ]
  },
  {
   "cell_type": "markdown",
   "id": "e6b23780-df03-444f-8e22-b5dd4e38c434",
   "metadata": {},
   "source": [
    "### **Exercice 2.6 : deque**"
   ]
  },
  {
   "cell_type": "code",
   "execution_count": 98,
   "id": "2f7529e5-ccec-47d2-b744-5ee26eb72ca0",
   "metadata": {},
   "outputs": [
    {
     "name": "stdout",
     "output_type": "stream",
     "text": [
      "deque([0.9, 1.2, 2.5])\n",
      "deque([1.2])\n"
     ]
    }
   ],
   "source": [
    "from collections import deque\n",
    "\n",
    "d = deque()\n",
    "d.append(1.2)\n",
    "d.append(2.5)\n",
    "d.appendleft(0.9)\n",
    "print(d)\n",
    "\n",
    "d.pop()\n",
    "d.popleft()\n",
    "print(d)\n"
   ]
  },
  {
   "cell_type": "markdown",
   "id": "7e1264d4-76f4-4d69-aa68-318c6d98e6ce",
   "metadata": {},
   "source": [
    "### **Exercice 2.7 : Lecture avec yield**"
   ]
  },
  {
   "cell_type": "code",
   "execution_count": 101,
   "id": "52d1c9a1-3657-4938-805c-0f459400ced7",
   "metadata": {},
   "outputs": [],
   "source": [
    "def lire_fichier(chemin):\n",
    "    with open(chemin, 'r') as f:\n",
    "        for ligne in f:\n",
    "            yield ligne.strip()\n",
    "\n",
    "# Exemple d'utilisation :\n",
    "# for ligne in lire_fichier(\"mon_fichier.txt\"):\n",
    "#     print(ligne)\n"
   ]
  },
  {
   "cell_type": "markdown",
   "id": "03ebd28c-23c8-4218-91ab-23c9a52fb1cf",
   "metadata": {},
   "source": [
    "### **Exercice 2.8 : Tri de dictionnaire**"
   ]
  },
  {
   "cell_type": "code",
   "execution_count": 104,
   "id": "4e3ee42c-6e49-4aa0-8708-5faa242bdb32",
   "metadata": {},
   "outputs": [
    {
     "name": "stdout",
     "output_type": "stream",
     "text": [
      "{'b': 1, 'c': 3, 'a': 5}\n"
     ]
    }
   ],
   "source": [
    "d = {'a': 5, 'b': 1, 'c': 3}\n",
    "tri = dict(sorted(d.items(), key=lambda item: item[1]))\n",
    "print(tri)\n"
   ]
  },
  {
   "cell_type": "markdown",
   "id": "33cc9099-80be-4d0f-817f-e4044ebcdab9",
   "metadata": {},
   "source": [
    "### **Exercice 2.9 : Set de mesures**"
   ]
  },
  {
   "cell_type": "code",
   "execution_count": 107,
   "id": "87596a22-2335-42df-bcf8-0a738cd917e0",
   "metadata": {},
   "outputs": [
    {
     "name": "stdout",
     "output_type": "stream",
     "text": [
      "{1.1, 2.2, 3.3}\n"
     ]
    }
   ],
   "source": [
    "valeurs = [1.1, 2.2, 1.1, 3.3, 2.2]\n",
    "uniques = set(valeurs)\n",
    "print(uniques)\n"
   ]
  },
  {
   "cell_type": "markdown",
   "id": "f6df54cb-1e4f-4a7e-ae2e-d70da525702d",
   "metadata": {},
   "source": [
    "### **Exercice 2.10 : Classe Experience**"
   ]
  },
  {
   "cell_type": "code",
   "execution_count": 110,
   "id": "55c367e4-a07f-46db-9ae5-b6791b089262",
   "metadata": {},
   "outputs": [],
   "source": [
    "class Experience:\n",
    "    def __init__(self, nom, domaine):\n",
    "        self.nom = nom\n",
    "        self.domaine = domaine\n",
    "\n",
    "    def presenter(self):\n",
    "        print(f\"Expérience: {self.nom}, Domaine: {self.domaine}\")\n"
   ]
  },
  {
   "cell_type": "markdown",
   "id": "fe9aa6ad-3e2a-4bb7-a611-34d5514b8aa2",
   "metadata": {},
   "source": [
    "### **Exercice 2.11 : Classe Simulation (héritée)**"
   ]
  },
  {
   "cell_type": "code",
   "execution_count": 113,
   "id": "0aa78132-2c8f-47b2-9e6d-8dfc25c00e37",
   "metadata": {},
   "outputs": [],
   "source": [
    "class Simulation(Experience):\n",
    "    def __init__(self, nom, domaine, modele):\n",
    "        super().__init__(nom, domaine)\n",
    "        self.modele = modele\n",
    "\n",
    "    def presenter(self):\n",
    "        print(f\"Simulation: {self.nom}, Domaine: {self.domaine}, Modèle: {self.modele}\")\n"
   ]
  },
  {
   "cell_type": "code",
   "execution_count": null,
   "id": "920d0612-3cfe-477e-a060-4cf9a17d72d3",
   "metadata": {},
   "outputs": [],
   "source": []
  }
 ],
 "metadata": {
  "kernelspec": {
   "display_name": "Python 3 (ipykernel)",
   "language": "python",
   "name": "python3"
  },
  "language_info": {
   "codemirror_mode": {
    "name": "ipython",
    "version": 3
   },
   "file_extension": ".py",
   "mimetype": "text/x-python",
   "name": "python",
   "nbconvert_exporter": "python",
   "pygments_lexer": "ipython3",
   "version": "3.12.4"
  }
 },
 "nbformat": 4,
 "nbformat_minor": 5
}
